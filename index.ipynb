{
 "cells": [
  {
   "cell_type": "markdown",
   "metadata": {},
   "source": [
    "# Complete Regression - Lab\n",
    "\n",
    "## Introduction\n",
    "By now, you have created all the necessary functions to calculate the slope, intercept, best-fit line, prediction, and visualizations. In this lab you will put them all together to run a regression experiment and calculate the model loss. \n",
    "\n",
    "## Objectives\n",
    "\n",
    "You will be able to:\n",
    "\n",
    "* Perform a linear regression using self-constructed functions\n",
    "* Calculate the coefficient of determination using self-constructed functions\n",
    "* Use the coefficient of determination to determine model performance\n",
    "\n",
    "## The formulas\n",
    "\n",
    "**Slope**: \n",
    "$\\hat m = \\dfrac{\\overline{x}*\\overline{y}-\\overline{xy}}{(\\overline{x})^2-\\overline{x^2}}$\n",
    "\n",
    "\n",
    "**Intercept**: $ \\hat c = \\bar{y} - \\hat m\\bar{x}$\n",
    "\n",
    "**Prediction**: $\\hat{y} = \\hat mx + \\hat c$\n",
    "\n",
    "**R-Squared**: \n",
    "$ R^2 = 1- \\dfrac{SS_{RES}}{SS_{TOT}} = 1 - \\dfrac{\\sum_i(y_i - \\hat y_i)^2}{\\sum_i(y_i - \\overline y_i)^2} $\n",
    "\n",
    "\n",
    "Use the Python functions created earlier to implement these formulas to run a regression analysis using x and y as input variables. "
   ]
  },
  {
   "cell_type": "code",
   "execution_count": 2,
   "metadata": {},
   "outputs": [
    {
     "name": "stdout",
     "output_type": "stream",
     "text": [
      "\n",
      "Basic Regression Diagnostics\n",
      "----------------------------\n",
      "Slope = 0.56\n",
      "Y-Intercept = 6.32\n",
      "R-Squared = 0.97\n",
      "----------------------------\n",
      "Model: Y = 0.56 * X + 6.32\n"
     ]
    }
   ],
   "source": [
    "import numpy as np\n",
    "import matplotlib.pyplot as plt\n",
    "%matplotlib inline\n",
    "plt.style.use('ggplot')\n",
    "\n",
    "# Combine all the functions created so far to run a complete regression experiment. \n",
    "# Produce an output similar to the one shown below. \n",
    "\n",
    "X = np.array([1, 2, 3, 4, 5, 6, 7, 8, 9, 10], dtype=np.float64)\n",
    "Y = np.array([7, 7, 8, 9, 9, 10, 10, 11, 11, 12], dtype=np.float64)\n",
    "\n",
    "slope = round(((np.mean(X) * np.mean(Y)) - np.mean(X*Y))/((np.mean(X))**2 - (np.mean(X**2))),2)\n",
    "y_intercept = round(np.mean(Y) - (slope * (np.mean(X))), 2)\n",
    "\n",
    "def reg_line(x):\n",
    "    return(x*slope + y_intercept)\n",
    "\n",
    "y_est = []\n",
    "y_mean = np.mean(Y)\n",
    "\n",
    "for i in range(0,len(X)):\n",
    "    y_est.append((X[i] * slope) + y_intercept)\n",
    "\n",
    "def ss_res(Y, y_est):\n",
    "    sum_tot=0\n",
    "    for i in range(0,len(Y)):\n",
    "        sum_tot += (Y[i] - y_est[i])**2\n",
    "    return sum_tot\n",
    "\n",
    "def ss_tot(Y, y_mean):\n",
    "    sum_tot = 0\n",
    "    for i in range(0,len(Y)):\n",
    "        sum_tot += (Y[i] - y_mean)**2\n",
    "    return sum_tot   \n",
    "\n",
    "r_squared = round(1-(ss_res(Y,y_est) / ss_tot(Y,y_mean)), 2)\n",
    "\n",
    "print('''\n",
    "Basic Regression Diagnostics\n",
    "----------------------------\n",
    "Slope = {}\n",
    "Y-Intercept = {}\n",
    "R-Squared = {}\n",
    "----------------------------\n",
    "Model: Y = {} * X + {}'''.format(slope,y_intercept,r_squared,slope,y_intercept))\n",
    "        \n",
    "\n"
   ]
  },
  {
   "cell_type": "code",
   "execution_count": 4,
   "metadata": {
    "scrolled": true
   },
   "outputs": [
    {
     "data": {
      "text/plain": [
       "<matplotlib.legend.Legend at 0x11c6ff2e8>"
      ]
     },
     "execution_count": 4,
     "metadata": {},
     "output_type": "execute_result"
    },
    {
     "data": {
      "image/png": "[encoded data removed]",
      "text/plain": [
       "<Figure size 432x288 with 1 Axes>"
      ]
     },
     "metadata": {
      "needs_background": "light"
     },
     "output_type": "display_data"
    }
   ],
   "source": [
    "plt.plot(X, reg_line(X), label = 'Regression Line')\n",
    "plt.scatter(X,Y, label = 'Data', color = 'blue')\n",
    "plt.legend()"
   ]
  },
  {
   "cell_type": "markdown",
   "metadata": {},
   "source": [
    "## Make Predictions\n",
    "\n",
    "Predict and plot the value of y using regression line above for a new value of $x = 4.5$."
   ]
  },
  {
   "cell_type": "code",
   "execution_count": 12,
   "metadata": {},
   "outputs": [
    {
     "data": {
      "text/plain": [
       "<function matplotlib.pyplot.show(*args, **kw)>"
      ]
     },
     "execution_count": 12,
     "metadata": {},
     "output_type": "execute_result"
    },
    {
     "data": {
      "image/png": "[encoded data removed]",
      "text/plain": [
       "<Figure size 432x288 with 1 Axes>"
      ]
     },
     "metadata": {
      "needs_background": "light"
     },
     "output_type": "display_data"
    }
   ],
   "source": [
    "# Make prediction for x = 4.5 and visualize on the scatter plot\n",
    "plt.plot(X, reg_line(X), label = 'Regression Line')\n",
    "plt.scatter(X,Y, label = 'Data', color = 'blue')\n",
    "plt.scatter(4.5,reg_line(4.5), label = ('Prediction = ', reg_line(4.5)), color = 'purple')\n",
    "plt.legend()\n",
    "plt.show"
   ]
  },
  {
   "cell_type": "markdown",
   "metadata": {},
   "source": [
    "## Level up - Optional \n",
    "Load the \"`heightweight.csv`\" dataset. Use the height as an independent and weight as a dependent variable and draw a regression line to data using your code above. Calculate your R-Squared value for the model and try to predict new values of y.  "
   ]
  },
  {
   "cell_type": "code",
   "execution_count": 14,
   "metadata": {},
   "outputs": [
    {
     "name": "stdout",
     "output_type": "stream",
     "text": [
      "\n",
      "Basic Regression Diagnostics\n",
      "----------------------------\n",
      "Slope = 5.54\n",
      "Y-Intercept = -204.55\n",
      "R-Squared = 0.96\n",
      "----------------------------\n",
      "Model: Y = 5.54 * X + -204.55\n"
     ]
    }
   ],
   "source": [
    "import pandas as pd\n",
    "\n",
    "df = pd.read_csv('heightWeight.csv')\n",
    "df.head()\n",
    "X2 = df['height']\n",
    "Y2 = df['weight']\n",
    "\n",
    "\n",
    "slope = round(((np.mean(X2) * np.mean(Y2)) - np.mean(X2*Y2))/((np.mean(X2))**2 - (np.mean(X2**2))),2)\n",
    "y_intercept = round(np.mean(Y2) - (slope * (np.mean(X2))), 2)\n",
    "\n",
    "def reg_line(x):\n",
    "    return(x*slope + y_intercept)\n",
    "\n",
    "y_est = []\n",
    "y_mean = np.mean(Y2)\n",
    "\n",
    "for i in range(0,len(X2)):\n",
    "    y_est.append((X2[i] * slope) + y_intercept)\n",
    "\n",
    "def ss_res(Y2, y_est):\n",
    "    sum_tot=0\n",
    "    for i in range(0,len(Y2)):\n",
    "        sum_tot += (Y2[i] - y_est[i])**2\n",
    "    return sum_tot\n",
    "\n",
    "def ss_tot(Y2, y_mean):\n",
    "    sum_tot = 0\n",
    "    for i in range(0,len(Y2)):\n",
    "        sum_tot += (Y2[i] - y_mean)**2\n",
    "    return sum_tot   \n",
    "\n",
    "r_squared = round(1-(ss_res(Y2,y_est) / ss_tot(Y2,y_mean)), 2)\n",
    "\n",
    "print('''\n",
    "Basic Regression Diagnostics\n",
    "----------------------------\n",
    "Slope = {}\n",
    "Y-Intercept = {}\n",
    "R-Squared = {}\n",
    "----------------------------\n",
    "Model: Y = {} * X + {}'''.format(slope,y_intercept,r_squared,slope,y_intercept))\n",
    "\n"
   ]
  },
  {
   "cell_type": "code",
   "execution_count": 16,
   "metadata": {},
   "outputs": [
    {
     "data": {
      "text/plain": [
       "<matplotlib.legend.Legend at 0x11e4732b0>"
      ]
     },
     "execution_count": 16,
     "metadata": {},
     "output_type": "execute_result"
    },
    {
     "data": {
      "image/png": "[encoded data removed]",
      "text/plain": [
       "<Figure size 432x288 with 1 Axes>"
      ]
     },
     "metadata": {
      "needs_background": "light"
     },
     "output_type": "display_data"
    }
   ],
   "source": [
    "plt.scatter(X2, Y2, label = 'Data')\n",
    "plt.plot(X2, reg_line(X2), label = 'Regression Line', color = 'blue')\n",
    "plt.scatter(70, reg_line(70), label = 'Predict my weight', color = 'purple')\n",
    "plt.legend()\n"
   ]
  },
  {
   "cell_type": "markdown",
   "metadata": {},
   "source": [
    "## Summary\n",
    "\n",
    "In this lab, we ran a complete simple regression analysis experiment using functions created so far. Next up, you'll learn how you can use Python's built-in modules to perform similar analyses with a much higher level of sophistication."
   ]
  }
 ],
 "metadata": {
  "kernelspec": {
   "display_name": "learn-env",
   "language": "python",
   "name": "learn-env"
  },
  "language_info": {
   "codemirror_mode": {
    "name": "ipython",
    "version": 3
   },
   "file_extension": ".py",
   "mimetype": "text/x-python",
   "name": "python",
   "nbconvert_exporter": "python",
   "pygments_lexer": "ipython3",
   "version": "3.6.9"
  }
 },
 "nbformat": 4,
 "nbformat_minor": 2
}
